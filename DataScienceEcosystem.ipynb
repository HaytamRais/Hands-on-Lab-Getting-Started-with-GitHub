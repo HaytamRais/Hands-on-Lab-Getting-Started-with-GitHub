{
 "cells": [
  {
   "cell_type": "markdown",
   "id": "c43aa0df-3846-401f-8a7d-c83bd892fbeb",
   "metadata": {},
   "source": [
    "# Data Science Tools and Ecosystem"
   ]
  },
  {
   "cell_type": "markdown",
   "id": "6cd8cbfe-5da8-41f2-957c-67d48cbd7ce0",
   "metadata": {},
   "source": [
    "In this notebook, Data Science Tools and Ecosystem are summarized."
   ]
  },
  {
   "cell_type": "markdown",
   "id": "7b6cd65d-d119-4113-ad6e-acafd7e5a1e9",
   "metadata": {},
   "source": [
    "**Objectives:**\n",
    "- List popular languages for Data Science\n",
    "- Learn how to use Github\n",
    "- Learn how to use R and RStudio\n",
    "- Most popular programming language in Datascience"
   ]
  },
  {
   "cell_type": "markdown",
   "id": "867b4903-d49a-470a-827a-221b8202f001",
   "metadata": {},
   "source": [
    "Some of the popular languages that Data Scientists use are:\n",
    "1. Python\n",
    "2. R \n",
    "3. JAVA-ML"
   ]
  },
  {
   "cell_type": "markdown",
   "id": "71bb5e17-f82e-49c7-b38a-8dbefd76a6ae",
   "metadata": {},
   "source": [
    "Some of the commonly used libraries used by Data Scientists include:\n",
    "1. Matplotlib\n",
    "2. Scikit-learn\n",
    "3. Pandas"
   ]
  },
  {
   "cell_type": "markdown",
   "id": "0150fbe6-f35a-493e-b2ce-e44cc6cfef0d",
   "metadata": {},
   "source": [
    "|Data Science Tools|\n",
    "|---|\n",
    "|Jupiter Notbooks|\n",
    "|R Studio|\n",
    "|watson studio |"
   ]
  },
  {
   "cell_type": "markdown",
   "id": "41588bc6-9818-488e-8c48-aefd5e999219",
   "metadata": {},
   "source": [
    "### Below are a few examples of evaluating arithmetic expressions in Python "
   ]
  },
  {
   "cell_type": "code",
   "execution_count": 12,
   "id": "35e5a49a-5785-42d1-bfb2-08da31d76cfc",
   "metadata": {},
   "outputs": [
    {
     "data": {
      "text/plain": [
       "17"
      ]
     },
     "execution_count": 12,
     "metadata": {},
     "output_type": "execute_result"
    }
   ],
   "source": [
    "(3*4)+5  # This a simple arithmetic expression to mutiply then add integers"
   ]
  },
  {
   "cell_type": "code",
   "execution_count": 14,
   "id": "8c0441fd-347c-4b2d-a410-2d90444943b8",
   "metadata": {},
   "outputs": [
    {
     "data": {
      "text/plain": [
       "3.3333333333333335"
      ]
     },
     "execution_count": 14,
     "metadata": {},
     "output_type": "execute_result"
    }
   ],
   "source": [
    "200 / 60 #This will convert 200 minutes to hours by diving by 60"
   ]
  },
  {
   "cell_type": "markdown",
   "id": "2ff7e9b9-0d03-4890-b4a5-d33ed7736d2d",
   "metadata": {},
   "source": [
    "## Author\n",
    "HAYTAM RAIS"
   ]
  },
  {
   "cell_type": "code",
   "execution_count": null,
   "id": "8fa99ccb-c9b1-4b85-b0fa-b36713a58ba5",
   "metadata": {},
   "outputs": [],
   "source": []
  }
 ],
 "metadata": {
  "kernelspec": {
   "display_name": "Python [conda env:anaconda3] *",
   "language": "python",
   "name": "conda-env-anaconda3-py"
  },
  "language_info": {
   "codemirror_mode": {
    "name": "ipython",
    "version": 3
   },
   "file_extension": ".py",
   "mimetype": "text/x-python",
   "name": "python",
   "nbconvert_exporter": "python",
   "pygments_lexer": "ipython3",
   "version": "3.12.7"
  }
 },
 "nbformat": 4,
 "nbformat_minor": 5
}
